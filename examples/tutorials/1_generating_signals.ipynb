{
 "cells": [
  {
   "cell_type": "code",
   "execution_count": null,
   "id": "5292b922",
   "metadata": {},
   "outputs": [],
   "source": [
    "import numpy as np\n",
    "import matplotlib.pyplot as plt\n",
    "from matplotlib import colors\n",
    "from scipy import stats\n",
    "\n",
    "import pyfstat\n",
    "from pyfstat.helper_functions import get_sft_as_arrays\n",
    "\n",
    "from IPython.display import Image, display\n",
    "\n",
    "plt.rcParams[\"font.family\"] = \"serif\"\n",
    "plt.rcParams[\"font.size\"] = 20"
   ]
  },
  {
   "cell_type": "code",
   "execution_count": null,
   "id": "eeb3b5b9",
   "metadata": {},
   "outputs": [],
   "source": [
    "# Setup Writer\n",
    "writer_kwargs ={\"label\": \"single_detector_gaussian_noise\",\n",
    "                \"outdir\": \"Pyfstat_example_data\",\n",
    "                \"tstart\": 1238166018,     # Starting time of the observating [GPS time]\n",
    "                \"duration\": 120 * 86400,  # Duration [seconds]\n",
    "                \"detectors\": \"H1\",        # Detector to simulate, in this case LIGO Hanford\n",
    "                \"sqrtSX\": 1e-23,          # Single-sided Amplitude Spectral Density of the noise\n",
    "                \"Tsft\": 1800,             # Fourier transform time duration\n",
    "                \"SFTWindowType\": \"tukey\", # Window function to compute short Fourier transforms\n",
    "                \"SFTWindowBeta\": 0.01,    # Parameter associated to the window function\n",
    "               }\n",
    "\n",
    "signal_parameters = {\n",
    "    \"F0\": 100.,\n",
    "    \"F1\": -1e-9,\n",
    "    \"Alpha\": 0.5,\n",
    "    \"Delta\": 0.,\n",
    "    \"h0\": .5e-23,\n",
    "    \"cosi\": 1,\n",
    "    \"psi\": 0.,\n",
    "    \"phi\": 0.\n",
    "}\n",
    "\n",
    "writer = pyfstat.Writer(**writer_kwargs, **signal_parameters)\n",
    "writer.make_data()\n",
    "frequency, timestamps, fourier_data = get_sft_as_arrays(writer.sftfilepath)"
   ]
  },
  {
   "cell_type": "code",
   "execution_count": null,
   "id": "21c31f7e",
   "metadata": {},
   "outputs": [],
   "source": [
    "fig, axs = plt.subplots(1, 2, figsize=(16, 10))\n",
    "\n",
    "for ax in axs:\n",
    "    ax.set(xlabel=\"Days since the start of O3\", ylabel=\"Frequency [Hz]\")\n",
    "\n",
    "time_in_days = (timestamps[\"H1\"] - timestamps[\"H1\"][0]) / 86400\n",
    "\n",
    "axs[0].set_title(\"SFT Real part\")\n",
    "c = axs[0].pcolormesh(time_in_days, frequency, fourier_data[\"H1\"].real,\n",
    "                      norm=colors.CenteredNorm())\n",
    "fig.colorbar(c, ax=axs[0], orientation=\"horizontal\", label=\"Fourier Amplitude\")\n",
    "\n",
    "axs[1].set_title(\"SFT Imaginary part\")\n",
    "c = axs[1].pcolormesh(time_in_days, frequency, fourier_data[\"H1\"].imag,\n",
    "                      norm=colors.CenteredNorm())\n",
    "\n",
    "fig.colorbar(c, ax=axs[1], orientation=\"horizontal\", label=\"Fourier Amplitude\")"
   ]
  },
  {
   "cell_type": "code",
   "execution_count": null,
   "id": "5a317b02",
   "metadata": {},
   "outputs": [],
   "source": [
    "signal_parameters[\"h0\"] = writer_kwargs[\"sqrtSX\"] / 10.\n",
    "\n",
    "writer = pyfstat.Writer(**writer_kwargs, **signal_parameters)\n",
    "\n",
    "# Create SFTs\n",
    "writer.make_data()\n",
    "\n",
    "frequency, timestamps, fourier_data = get_sft_as_arrays(writer.sftfilepath)"
   ]
  },
  {
   "cell_type": "code",
   "execution_count": null,
   "id": "bc40fff1",
   "metadata": {},
   "outputs": [],
   "source": [
    "fig, axs = plt.subplots(1, 2, figsize=(16, 10))\n",
    "\n",
    "for ax in axs:\n",
    "    ax.set(xlabel=\"Days since the start of O3\", ylabel=\"Frequency [Hz]\")\n",
    "\n",
    "time_in_days = (timestamps[\"H1\"] - timestamps[\"H1\"][0]) / 86400\n",
    "\n",
    "axs[0].set_title(\"SFT Real part\")\n",
    "c = axs[0].pcolormesh(time_in_days, frequency, fourier_data[\"H1\"].real,\n",
    "                      norm=colors.CenteredNorm())\n",
    "fig.colorbar(c, ax=axs[0], orientation=\"horizontal\", label=\"Fourier Amplitude\")\n",
    "\n",
    "axs[1].set_title(\"SFT Imaginary part\")\n",
    "c = axs[1].pcolormesh(time_in_days, frequency, fourier_data[\"H1\"].imag,\n",
    "                      norm=colors.CenteredNorm())\n",
    "\n",
    "fig.colorbar(c, ax=axs[1], orientation=\"horizontal\", label=\"Fourier Amplitude\")"
   ]
  },
  {
   "cell_type": "code",
   "execution_count": null,
   "id": "25979993",
   "metadata": {},
   "outputs": [],
   "source": [
    "fig, axs = plt.subplots(1, 2, figsize=(16, 10))\n",
    "\n",
    "for ax in axs:\n",
    "    ax.set(xlabel=\"Days since the start of O3\", ylabel=\"Frequency [Hz]\")\n",
    "\n",
    "time_in_days = (timestamps[\"H1\"] - timestamps[\"H1\"][0]) / 86400\n",
    "     \n",
    "axs[0].set_title(\"SFT absolute value\")\n",
    "c = axs[0].pcolorfast(time_in_days, frequency, np.absolute(fourier_data[\"H1\"]))\n",
    "fig.colorbar(c, ax=axs[0], orientation=\"horizontal\", label=\"Value\")\n",
    "\n",
    "axs[1].set_title(\"SFT Phase\")\n",
    "c = axs[1].pcolorfast(time_in_days, frequency, np.angle(fourier_data[\"H1\"]),\n",
    "                      norm=colors.CenteredNorm())\n",
    "fig.colorbar(c, ax=axs[1], orientation=\"horizontal\", label=\"Value\")"
   ]
  },
  {
   "cell_type": "code",
   "execution_count": null,
   "id": "d64aa6bf",
   "metadata": {},
   "outputs": [],
   "source": [
    "theta_prior = {\n",
    "    \"F0\": {\n",
    "        \"type\": \"unif\",\n",
    "        \"lower\": signal_parameters[\"F0\"] - 1e-5,\n",
    "        \"upper\": signal_parameters[\"F0\"] + 1e-5,\n",
    "    },\n",
    "    \"F1\": {\n",
    "        \"type\": \"unif\",\n",
    "        \"lower\": signal_parameters[\"F1\"] - 1e-11,\n",
    "        \"upper\": signal_parameters[\"F1\"] + 1e-11,\n",
    "    },\n",
    "    \"Alpha\": {\n",
    "        \"type\": \"unif\",\n",
    "        \"lower\": signal_parameters[\"Alpha\"] - 1e-3,\n",
    "        \"upper\": signal_parameters[\"Alpha\"] + 1e-3,\n",
    "    },\n",
    "    \"Delta\": {\n",
    "        \"type\": \"unif\",\n",
    "        \"lower\": signal_parameters[\"Delta\"] - 1e-3,\n",
    "        \"upper\": signal_parameters[\"Delta\"] + 1e-3,\n",
    "    },\n",
    "    \"F2\": 0.\n",
    "}\n",
    "\n",
    "mcmc = pyfstat.MCMCSearch(\n",
    "    label=writer.label,\n",
    "    outdir=writer.outdir,\n",
    "    sftfilepattern=writer.sftfilepath,\n",
    "    theta_prior=theta_prior,\n",
    "    tref=writer.tref,\n",
    "    nsteps=[100, 100],\n",
    "    nwalkers=100,\n",
    "    ntemps=3,\n",
    ")\n",
    "\n",
    "mcmc.run()\n",
    "mcmc.plot_corner(add_prior=True, truths=signal_parameters)"
   ]
  },
  {
   "cell_type": "code",
   "execution_count": null,
   "id": "d47ce5e3",
   "metadata": {},
   "outputs": [],
   "source": [
    "display(Image(filename=f\"{mcmc.outdir}/{mcmc.label}_corner.png\"))"
   ]
  },
  {
   "cell_type": "code",
   "execution_count": null,
   "id": "cf39431f",
   "metadata": {},
   "outputs": [],
   "source": []
  },
  {
   "cell_type": "code",
   "execution_count": null,
   "id": "33361033",
   "metadata": {},
   "outputs": [],
   "source": []
  }
 ],
 "metadata": {
  "kernelspec": {
   "display_name": "Python 3 (ipykernel)",
   "language": "python",
   "name": "python3"
  },
  "language_info": {
   "codemirror_mode": {
    "name": "ipython",
    "version": 3
   },
   "file_extension": ".py",
   "mimetype": "text/x-python",
   "name": "python",
   "nbconvert_exporter": "python",
   "pygments_lexer": "ipython3",
   "version": "3.9.10"
  }
 },
 "nbformat": 4,
 "nbformat_minor": 5
}
